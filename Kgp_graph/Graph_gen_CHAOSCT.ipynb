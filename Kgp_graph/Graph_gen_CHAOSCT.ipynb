{
 "cells": [
  {
   "cell_type": "code",
   "execution_count": 5,
   "metadata": {},
   "outputs": [],
   "source": [
    "import os\n",
    "import plotly\n",
    "import plotly.figure_factory as ff\n",
    "import plotly.graph_objs as go\n",
    "import shutil\n",
    "import time\n",
    "import plotly.io as pio\n",
    "import glob\n",
    "import json\n",
    "import statistics\n"
   ]
  },
  {
   "cell_type": "code",
   "execution_count": 11,
   "metadata": {},
   "outputs": [
    {
     "data": {
      "application/vnd.plotly.v1+json": {
       "config": {
        "linkText": "Export to plot.ly",
        "plotlyServerURL": "https://plot.ly",
        "showLink": false
       },
       "data": [
        {
         "marker": {
          "size": 10,
          "symbol": "star"
         },
         "mode": "lines+markers",
         "name": "Arch1",
         "type": "scatter",
         "uid": "4069135f-347c-4ed1-8350-c6efb347061d",
         "x": [
          8.432225368824879,
          8.432225368824879,
          10.407898020814944,
          13.78053429369095,
          15.427902498252257
         ],
         "y": [
          29.783519347970127,
          29.783519334505247,
          29.78286136827793,
          29.569666480391998,
          26.558040156769827
         ]
        }
       ],
       "layout": {
        "xaxis": {
         "type": "log"
        }
       }
      },
      "text/html": [
       "<div>\n",
       "        \n",
       "        \n",
       "            <div id=\"f4b8aa38-2042-4ce0-94ce-743c08c0b6d5\" class=\"plotly-graph-div\" style=\"height:525px; width:100%;\"></div>\n",
       "            <script type=\"text/javascript\">\n",
       "                require([\"plotly\"], function(Plotly) {\n",
       "                    window.PLOTLYENV=window.PLOTLYENV || {};\n",
       "                    window.PLOTLYENV.BASE_URL='https://plot.ly';\n",
       "                    \n",
       "                if (document.getElementById(\"f4b8aa38-2042-4ce0-94ce-743c08c0b6d5\")) {\n",
       "                    Plotly.newPlot(\n",
       "                        'f4b8aa38-2042-4ce0-94ce-743c08c0b6d5',\n",
       "                        [{\"marker\": {\"size\": 10, \"symbol\": \"star\"}, \"mode\": \"lines+markers\", \"name\": \"Arch1\", \"type\": \"scatter\", \"uid\": \"4069135f-347c-4ed1-8350-c6efb347061d\", \"x\": [8.432225368824879, 8.432225368824879, 10.407898020814944, 13.78053429369095, 15.427902498252257], \"y\": [29.783519347970127, 29.783519334505247, 29.78286136827793, 29.569666480391998, 26.558040156769827]}],\n",
       "                        {\"xaxis\": {\"type\": \"log\"}},\n",
       "                        {\"showLink\": false, \"linkText\": \"Export to plot.ly\", \"plotlyServerURL\": \"https://plot.ly\", \"responsive\": true}\n",
       "                    ).then(function(){\n",
       "                            \n",
       "var gd = document.getElementById('f4b8aa38-2042-4ce0-94ce-743c08c0b6d5');\n",
       "var x = new MutationObserver(function (mutations, observer) {{\n",
       "        var display = window.getComputedStyle(gd).display;\n",
       "        if (!display || display === 'none') {{\n",
       "            console.log([gd, 'removed!']);\n",
       "            Plotly.purge(gd);\n",
       "            observer.disconnect();\n",
       "        }}\n",
       "}});\n",
       "\n",
       "// Listen for the removal of the full notebook cells\n",
       "var notebookContainer = gd.closest('#notebook-container');\n",
       "if (notebookContainer) {{\n",
       "    x.observe(notebookContainer, {childList: true});\n",
       "}}\n",
       "\n",
       "// Listen for the clearing of the current output cell\n",
       "var outputEl = gd.closest('.output');\n",
       "if (outputEl) {{\n",
       "    x.observe(outputEl, {childList: true});\n",
       "}}\n",
       "\n",
       "                        })\n",
       "                };\n",
       "                });\n",
       "            </script>\n",
       "        </div>"
      ]
     },
     "metadata": {},
     "output_type": "display_data"
    }
   ],
   "source": [
    "with open('/home/rakshith/Desktop/CHAOSCT/adver/arch1_waac.json') as json_file:  \n",
    "    data = json.load(json_file)\n",
    "    psnr,bpp=[],[]\n",
    "    new_bpp=[]\n",
    "    mean_x,mean_y=[],[]\n",
    "    \n",
    "    \n",
    "    for p in data:\n",
    "        psnr.append(p['psnr'])\n",
    "        bpp.append((p['bpp']))\n",
    "        \n",
    "    for row in bpp:\n",
    "\n",
    "        row[:]=([16 / x for x in row])\n",
    "        new_bpp.append(row[:])\n",
    "\n",
    "    \n",
    "    i=0\n",
    "\n",
    "    while(i<len(psnr)):\n",
    "\n",
    "        mean_y.append(statistics.mean(psnr[i]))\n",
    "        mean_x.append(statistics.mean(new_bpp[i]))\n",
    "        i=i+1\n",
    "        \n",
    "    trace0 = go.Scatter(\n",
    "    x = mean_x,\n",
    "    y = mean_y,marker={'symbol': 'star', 'size': 10},\n",
    "    mode = 'lines+markers',\n",
    "    name = 'Arch1')\n",
    "    \n",
    "data=[trace0]\n",
    "layout = go.Layout(\n",
    "xaxis=dict(\n",
    "    type='log'\n",
    "    )\n",
    ")\n",
    "fig = dict(data=data,layout=layout)\n",
    "plotly.offline.iplot(fig, filename='Mean_graph')"
   ]
  },
  {
   "cell_type": "code",
   "execution_count": null,
   "metadata": {},
   "outputs": [],
   "source": []
  }
 ],
 "metadata": {
  "kernelspec": {
   "display_name": "Python 3",
   "language": "python",
   "name": "python3"
  },
  "language_info": {
   "codemirror_mode": {
    "name": "ipython",
    "version": 3
   },
   "file_extension": ".py",
   "mimetype": "text/x-python",
   "name": "python",
   "nbconvert_exporter": "python",
   "pygments_lexer": "ipython3",
   "version": "3.7.1"
  }
 },
 "nbformat": 4,
 "nbformat_minor": 2
}
